{
  "nbformat": 4,
  "nbformat_minor": 0,
  "metadata": {
    "colab": {
      "provenance": []
    },
    "kernelspec": {
      "name": "python3",
      "display_name": "Python 3"
    },
    "language_info": {
      "name": "python"
    }
  },
  "cells": [
    {
      "cell_type": "markdown",
      "source": [
        "Part 2"
      ],
      "metadata": {
        "id": "xbaWodvoFUN4"
      }
    },
    {
      "cell_type": "markdown",
      "source": [
        "1"
      ],
      "metadata": {
        "id": "UkVG33bjFY-Q"
      }
    },
    {
      "cell_type": "code",
      "source": [
        "pip install ucimlrepo"
      ],
      "metadata": {
        "colab": {
          "base_uri": "https://localhost:8080/"
        },
        "id": "wB_vsbNMFZxw",
        "outputId": "df4c0bf9-5bbd-47a0-ed13-664938a74260"
      },
      "execution_count": null,
      "outputs": [
        {
          "output_type": "stream",
          "name": "stdout",
          "text": [
            "Collecting ucimlrepo\n",
            "  Downloading ucimlrepo-0.0.7-py3-none-any.whl.metadata (5.5 kB)\n",
            "Requirement already satisfied: pandas>=1.0.0 in /usr/local/lib/python3.12/dist-packages (from ucimlrepo) (2.2.2)\n",
            "Requirement already satisfied: certifi>=2020.12.5 in /usr/local/lib/python3.12/dist-packages (from ucimlrepo) (2025.10.5)\n",
            "Requirement already satisfied: numpy>=1.26.0 in /usr/local/lib/python3.12/dist-packages (from pandas>=1.0.0->ucimlrepo) (2.0.2)\n",
            "Requirement already satisfied: python-dateutil>=2.8.2 in /usr/local/lib/python3.12/dist-packages (from pandas>=1.0.0->ucimlrepo) (2.9.0.post0)\n",
            "Requirement already satisfied: pytz>=2020.1 in /usr/local/lib/python3.12/dist-packages (from pandas>=1.0.0->ucimlrepo) (2025.2)\n",
            "Requirement already satisfied: tzdata>=2022.7 in /usr/local/lib/python3.12/dist-packages (from pandas>=1.0.0->ucimlrepo) (2025.2)\n",
            "Requirement already satisfied: six>=1.5 in /usr/local/lib/python3.12/dist-packages (from python-dateutil>=2.8.2->pandas>=1.0.0->ucimlrepo) (1.17.0)\n",
            "Downloading ucimlrepo-0.0.7-py3-none-any.whl (8.0 kB)\n",
            "Installing collected packages: ucimlrepo\n",
            "Successfully installed ucimlrepo-0.0.7\n"
          ]
        }
      ]
    },
    {
      "cell_type": "code",
      "source": [
        "from ucimlrepo import fetch_ucirepo\n",
        "\n",
        "daily_demand_forecasting_orders = fetch_ucirepo(id=409)\n",
        "\n",
        "X = daily_demand_forecasting_orders.data.features\n",
        "y = daily_demand_forecasting_orders.data.targets\n",
        "\n",
        "print(daily_demand_forecasting_orders.metadata)\n",
        "\n",
        "print(daily_demand_forecasting_orders.variables)\n"
      ],
      "metadata": {
        "id": "K10fDaR3FjR4"
      },
      "execution_count": null,
      "outputs": []
    },
    {
      "cell_type": "markdown",
      "source": [
        "6"
      ],
      "metadata": {
        "id": "DT8ISIFQF7WH"
      }
    },
    {
      "cell_type": "markdown",
      "source": [
        "Statistics for inputs"
      ],
      "metadata": {
        "id": "ch7mYbApJ6K8"
      }
    },
    {
      "cell_type": "code",
      "source": [
        "print(\"Range:\\n\", X.max() - X.min())\n"
      ],
      "metadata": {
        "id": "NZfDyoJyJc_V"
      },
      "execution_count": null,
      "outputs": []
    },
    {
      "cell_type": "code",
      "source": [
        "print(\"Average:\\n\", X.mean())"
      ],
      "metadata": {
        "id": "DYwYKOEzJwpM"
      },
      "execution_count": null,
      "outputs": []
    },
    {
      "cell_type": "code",
      "source": [
        "print(\"Variance:\\n\", np.var(X))"
      ],
      "metadata": {
        "id": "oFWiEgLMJznc"
      },
      "execution_count": null,
      "outputs": []
    },
    {
      "cell_type": "markdown",
      "source": [
        "7"
      ],
      "metadata": {
        "id": "N7MJhzKJKjZs"
      }
    },
    {
      "cell_type": "markdown",
      "source": [
        "Statistics for outputs"
      ],
      "metadata": {
        "id": "zlji3RsvKDLs"
      }
    },
    {
      "cell_type": "code",
      "source": [
        "print(\"Range:\\n\", y.max() - y.min())"
      ],
      "metadata": {
        "id": "lsz2T667G91_"
      },
      "execution_count": null,
      "outputs": []
    },
    {
      "cell_type": "code",
      "source": [
        "print(\"Average:\\n\", y.mean())"
      ],
      "metadata": {
        "id": "d58-Ls0VI6zN"
      },
      "execution_count": null,
      "outputs": []
    },
    {
      "cell_type": "code",
      "source": [
        "print(\"Variance:\\n\", np.var(y))"
      ],
      "metadata": {
        "id": "ckGMf5K4JJbd"
      },
      "execution_count": null,
      "outputs": []
    },
    {
      "cell_type": "markdown",
      "source": [
        "8 & 9"
      ],
      "metadata": {
        "id": "8pKxSlCcKgc8"
      }
    },
    {
      "cell_type": "code",
      "source": [
        "import pandas as pd"
      ],
      "metadata": {
        "id": "4VBNbNL_KoT8"
      },
      "execution_count": null,
      "outputs": []
    },
    {
      "cell_type": "code",
      "source": [
        "df = pd.concat([X, y], axis=1)\n",
        "\n",
        "\n",
        "print(df.head())"
      ],
      "metadata": {
        "id": "jJ5ymleJmzD5"
      },
      "execution_count": null,
      "outputs": []
    },
    {
      "cell_type": "markdown",
      "source": [
        "The pd.concat function above combines the two features X and y into a single dataframe, which allows us to then use he head function to view the first few lines."
      ],
      "metadata": {
        "id": "zZ_MN4SWn-xt"
      }
    },
    {
      "cell_type": "markdown",
      "source": [
        "10 & 11"
      ],
      "metadata": {
        "id": "ZXR1dNO3oPiV"
      }
    },
    {
      "cell_type": "code",
      "source": [
        "url = 'http://vincentarelbundock.github.io/Rdatasets/csv/datasets/longley.csv'\n",
        "df = pd.read_csv(url)"
      ],
      "metadata": {
        "id": "6zJMX4nAoeDh"
      },
      "execution_count": null,
      "outputs": []
    },
    {
      "cell_type": "markdown",
      "source": [
        "I copy and pasted the link given, assigned it as a string named url. That way I can directly read it without setting up a path on my PC through CoLab"
      ],
      "metadata": {
        "id": "V3Wzc99MpQET"
      }
    },
    {
      "cell_type": "markdown",
      "source": [
        "12"
      ],
      "metadata": {
        "id": "ywfd7zPljWe1"
      }
    },
    {
      "cell_type": "code",
      "source": [
        "plt.scatter(df['GNP'], df['Employed'], color='blue')  # X = GNP, Y = Employed\n",
        "plt.title('Scatterplot of GNP vs Employed')\n",
        "plt.xlabel('GNP')\n",
        "plt.ylabel('Employed')\n",
        "plt.grid(True)                     # optional: add gridlines\n",
        "plt.show()"
      ],
      "metadata": {
        "id": "oaOACKm6pGhl"
      },
      "execution_count": null,
      "outputs": []
    },
    {
      "cell_type": "markdown",
      "source": [
        "13"
      ],
      "metadata": {
        "id": "X6NoaqGCjsgt"
      }
    },
    {
      "cell_type": "code",
      "source": [
        "correlation_coefficient = np.corrcoef(df['GNP'],df['Employed'])\n",
        "print(correlation_coefficient)"
      ],
      "metadata": {
        "id": "7WWOr1BVjutX"
      },
      "execution_count": null,
      "outputs": []
    },
    {
      "cell_type": "markdown",
      "source": [
        "In order to use GNP and Employed as parameters in corrcoef, I call them directly though the dataframe df.\n",
        "\n",
        "Through doing this, I observe the correlation coefficient to be 0.984, which indicates there is strong correlation between GNP and Employed."
      ],
      "metadata": {
        "id": "W4-nkHQjk15n"
      }
    }
  ]
}